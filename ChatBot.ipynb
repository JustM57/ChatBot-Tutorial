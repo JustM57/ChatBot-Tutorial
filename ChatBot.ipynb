{
 "cells": [
  {
   "cell_type": "markdown",
   "metadata": {},
   "source": [
    "<h1 style=\"text-align:center\">Простой умный чат бот для Telegram</h1>"
   ]
  },
  {
   "cell_type": "markdown",
   "metadata": {},
   "source": [
    "<p style=\"text-indent: 25px;\">Данный юпитер ноутбук создан для конкурса туториалов в курсе mlcourse_open от ODS. Начну немного с предыстории. Впервые о чатботах и машинном обучении я услышал на втором DataFest. В то время я знакомился с различными областями программирования и сильно этим не заитересовался. Во время третьего DataFesta снова был доклад о чат ботах, который рассказывался в довольно неформальной обстановке, поскольку тренировочным набором фраз для него была выгрузка с двача(для тех, кто не знает - это форум, где можно было высказываться как угодно на любые темы). Потом спустя некоторое время в Яндексе я слушал доклад про обучения бота в светской беседе. И где-то примерно в этот момент я понял, что хочу заниматься Анализом Данных.</p>"
   ]
  },
  {
   "cell_type": "code",
   "execution_count": 2,
   "metadata": {
    "collapsed": false
   },
   "outputs": [
    {
     "data": {
      "text/html": [
       "<iframe width=\"560\" height=\"315\" src=\"https://www.youtube.com/embed/pjiknrtTZi0\" frameborder=\"0\" allowfullscreen></iframe>"
      ],
      "text/plain": [
       "<IPython.core.display.HTML object>"
      ]
     },
     "metadata": {},
     "output_type": "display_data"
    }
   ],
   "source": [
    "%%HTML\n",
    "<iframe width=\"560\" height=\"315\" src=\"https://www.youtube.com/embed/pjiknrtTZi0\" frameborder=\"0\" allowfullscreen></iframe>"
   ]
  },
  {
   "cell_type": "markdown",
   "metadata": {},
   "source": [
    "<b><p>Собственно говоря теперь ближе к задаче. Сначала нужно ответить на несколько вопросов:</p></b>\n",
    "<br><i>Q:</i> Где взять фразы для обучения?\n",
    "<br><i>A:</i> "
   ]
  },
  {
   "cell_type": "code",
   "execution_count": null,
   "metadata": {
    "collapsed": true
   },
   "outputs": [],
   "source": []
  }
 ],
 "metadata": {
  "kernelspec": {
   "display_name": "Python 3",
   "language": "python",
   "name": "python3"
  },
  "language_info": {
   "codemirror_mode": {
    "name": "ipython",
    "version": 3
   },
   "file_extension": ".py",
   "mimetype": "text/x-python",
   "name": "python",
   "nbconvert_exporter": "python",
   "pygments_lexer": "ipython3",
   "version": "3.5.2"
  }
 },
 "nbformat": 4,
 "nbformat_minor": 2
}
